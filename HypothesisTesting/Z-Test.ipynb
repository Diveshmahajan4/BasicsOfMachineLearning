{
 "cells": [
  {
   "cell_type": "markdown",
   "id": "1a05de96",
   "metadata": {},
   "source": [
    "Suppose the IQ in a certain population is normally distributed with a mean of 1 = 100 and standard deviation of sigma = 15.\n",
    "A researcher wants to know if a new drug affects IQ levels, so he recruits 20 patients to try it and records their IQ levels.\n",
    "\n",
    "The following code shows how to perform a one sample z-test in Python to determine if the new drug causes a significant\n",
    "difference in IQ levels:\n"
   ]
  },
  {
   "cell_type": "code",
   "execution_count": 4,
   "id": "bc70819a",
   "metadata": {},
   "outputs": [
    {
     "data": {
      "text/plain": [
       "(1.5976240527147705, 0.11012667014384257)"
      ]
     },
     "execution_count": 4,
     "metadata": {},
     "output_type": "execute_result"
    }
   ],
   "source": [
    "from statsmodels.stats.weightstats import ztest as ztest\n",
    "\n",
    "#enter IQ Levels for 20 patients\n",
    "data = [88, 92, 94, 94, 96, 97, 97, 97, 99, 99, 105, 109, 109, 109, 110, 112, 112, 113, 114, 115]\n",
    "\n",
    "ztest(data, value=100)\n",
    "# we will get two values first value is ztest value and the \n",
    "# second one is p value."
   ]
  },
  {
   "cell_type": "code",
   "execution_count": null,
   "id": "0d4a3aef",
   "metadata": {},
   "outputs": [],
   "source": [
    "#  o.11 > 0.05 so we reject the null hypothesis"
   ]
  },
  {
   "cell_type": "code",
   "execution_count": null,
   "id": "965a3eb9",
   "metadata": {},
   "outputs": [],
   "source": []
  }
 ],
 "metadata": {
  "kernelspec": {
   "display_name": "Python 3 (ipykernel)",
   "language": "python",
   "name": "python3"
  },
  "language_info": {
   "codemirror_mode": {
    "name": "ipython",
    "version": 3
   },
   "file_extension": ".py",
   "mimetype": "text/x-python",
   "name": "python",
   "nbconvert_exporter": "python",
   "pygments_lexer": "ipython3",
   "version": "3.9.13"
  }
 },
 "nbformat": 4,
 "nbformat_minor": 5
}
